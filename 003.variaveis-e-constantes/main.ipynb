{
 "cells": [
  {
   "cell_type": "markdown",
   "metadata": {},
   "source": [
    "# 003 - Variáveis e Constantes (Tipos de dados)\n",
    "- As variáveis são como \"caixinhas\" que definimos o que vai conter lá dentro como uma descrição\n",
    "- Categoricamente, toda vez que uma variável é declarada, um *espaço em memória é alocado* para ela\n",
    "- No Python, as contantes são uma convenção, usadas em **Uppercase (CONSTANTE = \"valor\")**, porque não existem realmente\n",
    "    - A desvantagem de não ter constantes é que elas necessitam de menos memória que as variáveis"
   ]
  },
  {
   "cell_type": "markdown",
   "metadata": {},
   "source": [
    "### Nomenclatura padrão\n",
    "- A nomenclatura mais comum usada em Python é a **Snake Case** para **variáveis** e **Uppercase** para **constantes**:"
   ]
  },
  {
   "cell_type": "code",
   "execution_count": 1,
   "metadata": {
    "tags": [
     "parameters"
    ]
   },
   "outputs": [],
   "source": [
    "IDADE_MINIMA = 18\n",
    "idade_aluno = 20"
   ]
  },
  {
   "cell_type": "markdown",
   "metadata": {},
   "source": [
    "- Vamos fazer um programa rápido que usa esses conceitos"
   ]
  },
  {
   "cell_type": "code",
   "execution_count": 3,
   "metadata": {},
   "outputs": [],
   "source": [
    "# arquivo constants.py\n",
    "IDADE_MINIMA = 18\n",
    "\n",
    "# arquivo main.py\n",
    "# from constants import IDADE_MINIMA\n",
    "\n",
    "def verificarIdade(idade):\n",
    "    return idade < IDADE_MINIMA\n"
   ]
  },
  {
   "cell_type": "markdown",
   "metadata": {},
   "source": [
    "### Variáveis globais e locais\n",
    "- As variáveis no Python também"
   ]
  },
  {
   "cell_type": "markdown",
   "metadata": {},
   "source": [
    "## Exercício\n",
    "- Função para qualificar a temperatura:\n",
    "    - se a temperatura for menor que 20ºC, frio\n",
    "    - se a temperatura for maior que 20ºC e menor que 30ºC, agradável\n",
    "    - se a temperatura for maior que 30ºC, quente"
   ]
  },
  {
   "cell_type": "code",
   "execution_count": 13,
   "metadata": {},
   "outputs": [
    {
     "name": "stdout",
     "output_type": "stream",
     "text": [
      "O clima está agradável ☺\n"
     ]
    }
   ],
   "source": [
    "def qualificarTemperatura(temperatura):\n",
    "    if temperatura < 20:\n",
    "        return 'frio ❄'\n",
    "    elif temperatura > 30:\n",
    "        return 'quente ☀'\n",
    "    else:\n",
    "        return 'agradável ☺'\n",
    "    \n",
    "TEMPERATURA = 25\n",
    "classificacao_temperatura = qualificarTemperatura(TEMPERATURA)\n",
    "\n",
    "print(f'O clima está {classificacao_temperatura}')\n"
   ]
  }
 ],
 "metadata": {
  "kernelspec": {
   "display_name": "Python 3",
   "language": "python",
   "name": "python3"
  },
  "language_info": {
   "codemirror_mode": {
    "name": "ipython",
    "version": 3
   },
   "file_extension": ".py",
   "mimetype": "text/x-python",
   "name": "python",
   "nbconvert_exporter": "python",
   "pygments_lexer": "ipython3",
   "version": "3.12.1"
  }
 },
 "nbformat": 4,
 "nbformat_minor": 2
}
