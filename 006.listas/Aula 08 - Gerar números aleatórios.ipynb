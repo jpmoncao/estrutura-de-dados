{
 "cells": [
  {
   "cell_type": "markdown",
   "metadata": {},
   "source": [
    "Para gerar números aleatórios em Python, você pode utilizar o módulo `random`, que já vem integrado na linguagem. Aqui estão alguns exemplos comuns de como gerar números aleatórios:\n",
    "\n",
    "### 1. Gerar um número inteiro aleatório em um intervalo:\n",
    "Para gerar um número inteiro entre dois valores, por exemplo, entre 1 e 10, você pode usar `random.randint()`:"
   ]
  },
  {
   "cell_type": "code",
   "execution_count": null,
   "metadata": {},
   "outputs": [],
   "source": [
    "import random\n",
    "\n",
    "numero_aleatorio = random.randint(1, 10)\n",
    "print(numero_aleatorio)"
   ]
  },
  {
   "cell_type": "markdown",
   "metadata": {},
   "source": [
    "### 2. Gerar um número decimal (float) aleatório entre 0 e 1:\n",
    "Use `random.random()` para gerar um número decimal entre 0 e 1:"
   ]
  },
  {
   "cell_type": "code",
   "execution_count": 14,
   "metadata": {},
   "outputs": [
    {
     "name": "stdout",
     "output_type": "stream",
     "text": [
      "0.7705751278545887\n"
     ]
    }
   ],
   "source": [
    "import random\n",
    "\n",
    "numero_aleatorio = random.random()\n",
    "print(numero_aleatorio)"
   ]
  },
  {
   "cell_type": "markdown",
   "metadata": {},
   "source": [
    "\n",
    "### 3. Gerar um número decimal (float) em um intervalo específico:\n",
    "Para gerar um número decimal entre dois valores, como entre 1.5 e 5.5, use `random.uniform()`:"
   ]
  },
  {
   "cell_type": "code",
   "execution_count": 27,
   "metadata": {},
   "outputs": [
    {
     "name": "stdout",
     "output_type": "stream",
     "text": [
      "1.9467042898346012\n"
     ]
    }
   ],
   "source": [
    "import random\n",
    "\n",
    "numero_aleatorio = random.uniform(1.5, 5.5)\n",
    "print(numero_aleatorio)"
   ]
  },
  {
   "cell_type": "markdown",
   "metadata": {},
   "source": [
    "### 4. Gerar uma lista embaralhada:\n",
    "Você pode usar `random.shuffle()` para embaralhar uma lista:"
   ]
  },
  {
   "cell_type": "code",
   "execution_count": 41,
   "metadata": {},
   "outputs": [
    {
     "name": "stdout",
     "output_type": "stream",
     "text": [
      "[4, 5, 1, 2, 3]\n"
     ]
    }
   ],
   "source": [
    "import random\n",
    "\n",
    "lista = [1, 2, 3, 4, 5]\n",
    "random.shuffle(lista)\n",
    "print(lista)"
   ]
  },
  {
   "cell_type": "markdown",
   "metadata": {},
   "source": [
    "### 5. Escolher um item aleatório de uma lista:\n",
    "Com `random.choice()`, é possível escolher um item aleatório de uma lista:"
   ]
  },
  {
   "cell_type": "code",
   "execution_count": 48,
   "metadata": {},
   "outputs": [
    {
     "name": "stdout",
     "output_type": "stream",
     "text": [
      "laranja\n"
     ]
    }
   ],
   "source": [
    "import random\n",
    "\n",
    "lista = ['maçã', 'banana', 'laranja']\n",
    "fruta_aleatoria = random.choice(lista)\n",
    "print(fruta_aleatoria)"
   ]
  },
  {
   "cell_type": "markdown",
   "metadata": {},
   "source": [
    "### 6. Gerar múltiplos números inteiros aleatórios:\n",
    "Use `random.sample()` para gerar uma lista de números aleatórios únicos de um intervalo, como 5 números entre 1 e 20:"
   ]
  },
  {
   "cell_type": "code",
   "execution_count": 49,
   "metadata": {},
   "outputs": [
    {
     "name": "stdout",
     "output_type": "stream",
     "text": [
      "[19, 12, 10, 2, 3]\n"
     ]
    }
   ],
   "source": [
    "import random\n",
    "\n",
    "numeros_aleatorios = random.sample(range(1, 21), 5)\n",
    "print(numeros_aleatorios)"
   ]
  }
 ],
 "metadata": {
  "kernelspec": {
   "display_name": "Python 3",
   "language": "python",
   "name": "python3"
  },
  "language_info": {
   "codemirror_mode": {
    "name": "ipython",
    "version": 3
   },
   "file_extension": ".py",
   "mimetype": "text/x-python",
   "name": "python",
   "nbconvert_exporter": "python",
   "pygments_lexer": "ipython3",
   "version": "3.9.6"
  }
 },
 "nbformat": 4,
 "nbformat_minor": 2
}
