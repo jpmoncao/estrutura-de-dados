{
 "cells": [
  {
   "cell_type": "markdown",
   "metadata": {
    "vscode": {
     "languageId": "bat"
    }
   },
   "source": [
    "### Trabalhando com listas em Python usando `while`\n",
    "\n",
    "#### 1. Criando e iterando sobre listas usando índices com `while`"
   ]
  },
  {
   "cell_type": "code",
   "execution_count": null,
   "metadata": {},
   "outputs": [],
   "source": [
    "# Criando uma lista simples\n",
    "lista = [10, 20, 30, 40, 50]\n",
    "i = 0\n",
    "\n",
    "# Iterando sobre a lista usando while\n",
    "while i < len(lista):\n",
    "    print(f\"Elemento no índice {i}: {lista[i]}\")\n",
    "    i += 1"
   ]
  },
  {
   "cell_type": "markdown",
   "metadata": {},
   "source": [
    "#### 2. Cópia e fatiamento de listas"
   ]
  },
  {
   "cell_type": "code",
   "execution_count": 20,
   "metadata": {},
   "outputs": [
    {
     "name": "stdout",
     "output_type": "stream",
     "text": [
      "Lista original: [1, 10, 3, 4, 5]\n",
      "Lista copiada: [1, 10, 3, 4, 5]\n"
     ]
    }
   ],
   "source": [
    "# Apontar para a mesma lista\n",
    "lista_original = [1, 2, 3, 4, 5]\n",
    "aponta_lista_original = lista_original\n",
    "lista_original[1] = 10\n",
    "print(\"Lista original:\", lista_original)\n",
    "print(\"Lista copiada:\", aponta_lista_original)"
   ]
  },
  {
   "cell_type": "code",
   "execution_count": 21,
   "metadata": {},
   "outputs": [
    {
     "name": "stdout",
     "output_type": "stream",
     "text": [
      "Lista original: [1, 10, 3, 4, 5]\n",
      "Lista copiada: [1, 10, 3, 4, 100]\n"
     ]
    }
   ],
   "source": [
    "\n",
    "# Cópia de lista\n",
    "lista_copiada = lista_original[:]\n",
    "\n",
    "# Alterando a lista copiada\n",
    "lista_copiada[4] = 100\n",
    "print(\"Lista original:\", lista_original)\n",
    "print(\"Lista copiada:\", lista_copiada)"
   ]
  },
  {
   "cell_type": "code",
   "execution_count": 22,
   "metadata": {},
   "outputs": [
    {
     "name": "stdout",
     "output_type": "stream",
     "text": [
      "Fatia da lista: [10, 3, 4]\n"
     ]
    }
   ],
   "source": [
    "# Fatiamento de uma lista\n",
    "fatia = lista_original[1:4]\n",
    "print(\"Fatia da lista:\", fatia)"
   ]
  },
  {
   "cell_type": "markdown",
   "metadata": {},
   "source": [
    "#### 3. Ver tamanho de uma lista"
   ]
  },
  {
   "cell_type": "code",
   "execution_count": 7,
   "metadata": {},
   "outputs": [
    {
     "name": "stdout",
     "output_type": "stream",
     "text": [
      "O tamanho da lista é 5\n"
     ]
    }
   ],
   "source": [
    "lista = [5, 10, 15, 20, 25]\n",
    "tamanho = len(lista)\n",
    "print(f\"O tamanho da lista é {tamanho}\")"
   ]
  },
  {
   "cell_type": "markdown",
   "metadata": {},
   "source": [
    "#### 4. Adição de elementos em uma lista"
   ]
  },
  {
   "cell_type": "code",
   "execution_count": null,
   "metadata": {},
   "outputs": [],
   "source": [
    "lista = [10, 20, 30]\n",
    "lista.append(40)  # Adicionando no final\n",
    "lista.insert(2, 25)  # Inserindo número 25 na posição 2\n",
    "print(lista)\n"
   ]
  },
  {
   "cell_type": "markdown",
   "metadata": {},
   "source": [
    "#### 5. Remoção de elementos da lista"
   ]
  },
  {
   "cell_type": "code",
   "execution_count": 27,
   "metadata": {},
   "outputs": [
    {
     "name": "stdout",
     "output_type": "stream",
     "text": [
      "[10, 20, 40, 50]\n",
      "Elemento removido: 30\n"
     ]
    }
   ],
   "source": [
    "lista = [10, 20, 30, 40, 50]\n",
    "lista.remove(30)  # Removendo o valor 30\n",
    "elemento_removido = lista.pop(2)  # Removendo o elemento no índice 2\n",
    "print(lista)\n",
    "print(\"Elemento removido:\", elemento_removido)"
   ]
  },
  {
   "cell_type": "markdown",
   "metadata": {},
   "source": [
    "#### 6. Usar lista como fila"
   ]
  },
  {
   "cell_type": "code",
   "execution_count": null,
   "metadata": {},
   "outputs": [],
   "source": [
    "fila = [1, 2, 3]\n",
    "\n",
    "# Adicionar ao final da fila\n",
    "fila.append(4)\n",
    "print(fila)\n",
    "# Remover o primeiro elemento (comportamento de fila)\n",
    "while fila:\n",
    "    print(\"Removendo da fila:\", fila.pop(0))\n",
    "print(fila)"
   ]
  },
  {
   "cell_type": "markdown",
   "metadata": {},
   "source": [
    "#### 7. Usar lista como pilha"
   ]
  },
  {
   "cell_type": "code",
   "execution_count": null,
   "metadata": {},
   "outputs": [],
   "source": [
    "pilha = []\n",
    "\n",
    "# Adicionar elementos à pilha\n",
    "pilha.append(1)\n",
    "pilha.append(2)\n",
    "pilha.append(3)\n",
    "\n",
    "# Remover elementos (LIFO)\n",
    "while pilha:\n",
    "    print(\"Removendo da pilha:\", pilha.pop())\n"
   ]
  },
  {
   "cell_type": "markdown",
   "metadata": {},
   "source": [
    "#### 8. Pesquisa em listas\n"
   ]
  },
  {
   "cell_type": "code",
   "execution_count": null,
   "metadata": {},
   "outputs": [],
   "source": [
    "lista = [10, 20, 30, 40, 50]\n",
    "valor_procurado = 30\n",
    "\n",
    "if valor_procurado in lista:\n",
    "    print(f\"{valor_procurado} está na lista no índice {lista.index(valor_procurado)}\")\n",
    "else:\n",
    "    print(f\"{valor_procurado} não está na lista\")"
   ]
  },
  {
   "cell_type": "markdown",
   "metadata": {},
   "source": [
    "---\n",
    "\n",
    "### Usando `for` com `range` e outras operações com listas\n",
    "\n",
    "#### 9. Usando `for` com `range` para iterar sobre a lista"
   ]
  },
  {
   "cell_type": "code",
   "execution_count": 28,
   "metadata": {},
   "outputs": [
    {
     "name": "stdout",
     "output_type": "stream",
     "text": [
      "Elemento no índice 0: 10\n",
      "Elemento no índice 1: 20\n",
      "Elemento no índice 2: 30\n",
      "Elemento no índice 3: 40\n",
      "Elemento no índice 4: 50\n"
     ]
    }
   ],
   "source": [
    "lista = [10, 20, 30, 40, 50]\n",
    "\n",
    "# Usando for com range\n",
    "for i in range(len(lista)):\n",
    "    print(f\"Elemento no índice {i}: {lista[i]}\")"
   ]
  },
  {
   "cell_type": "markdown",
   "metadata": {},
   "source": [
    "#### 10. Operações com listas"
   ]
  },
  {
   "cell_type": "code",
   "execution_count": null,
   "metadata": {},
   "outputs": [],
   "source": [
    "lista1 = [1, 2, 3]\n",
    "lista2 = [4, 5, 6]\n",
    "\n",
    "# Concatenando listas\n",
    "lista_concatenada = lista1 + lista2\n",
    "print(\"Lista concatenada:\", lista_concatenada)\n",
    "\n",
    "# Multiplicando listas\n",
    "lista_multiplicada = lista1 * 2\n",
    "print(\"Lista multiplicada:\", lista_multiplicada)"
   ]
  },
  {
   "cell_type": "markdown",
   "metadata": {},
   "source": [
    "#### 11. Aplicações de listas: encontrar maior, menor, soma e média"
   ]
  },
  {
   "cell_type": "code",
   "execution_count": 16,
   "metadata": {},
   "outputs": [
    {
     "name": "stdout",
     "output_type": "stream",
     "text": [
      "Maior valor: 50\n",
      "Menor valor: 10\n",
      "Soma dos elementos: 150\n",
      "Média dos elementos: 30.0\n"
     ]
    }
   ],
   "source": [
    "lista = [10, 20, 30, 40, 50]\n",
    "\n",
    "# Encontrando o maior e o menor valor\n",
    "print(\"Maior valor:\", max(lista))\n",
    "print(\"Menor valor:\", min(lista))\n",
    "\n",
    "# Soma dos valores\n",
    "soma = sum(lista)\n",
    "print(\"Soma dos elementos:\", soma)\n",
    "\n",
    "# Calculando a média\n",
    "media = soma / len(lista)\n",
    "print(\"Média dos elementos:\", media)"
   ]
  },
  {
   "cell_type": "markdown",
   "metadata": {},
   "source": [
    "---\n",
    "\n",
    "### Listas com strings, lista dentro de lista e ordenação\n",
    "\n",
    "#### 12. Listas com strings"
   ]
  },
  {
   "cell_type": "code",
   "execution_count": null,
   "metadata": {},
   "outputs": [],
   "source": [
    "nomes = [\"Ana\", \"Carlos\", \"Beatriz\", \"David\"]\n",
    "\n",
    "# Usando um loop for para acessar cada string\n",
    "for nome in nomes:\n",
    "    print(f\"Nome: {nome}\")"
   ]
  },
  {
   "cell_type": "markdown",
   "metadata": {},
   "source": [
    "#### 13. Lista dentro de lista (listas aninhadas)"
   ]
  },
  {
   "cell_type": "code",
   "execution_count": 29,
   "metadata": {},
   "outputs": [
    {
     "name": "stdout",
     "output_type": "stream",
     "text": [
      "1 2 3 \n",
      "4 5 6 \n",
      "7 8 9 \n"
     ]
    }
   ],
   "source": [
    "# Lista de listas (matriz 2D)\n",
    "matriz = [\n",
    "    [1, 2, 3],\n",
    "    [4, 5, 6],\n",
    "    [7, 8, 9]\n",
    "]\n",
    "\n",
    "# Acessando elementos da matriz\n",
    "for linha in matriz:\n",
    "    for elemento in linha:\n",
    "        print(elemento, end=\" \")\n",
    "    print()  # Quebra de linha após cada linha da matriz"
   ]
  },
  {
   "cell_type": "markdown",
   "metadata": {},
   "source": [
    "#### 14. Ordenação de listas"
   ]
  },
  {
   "cell_type": "code",
   "execution_count": null,
   "metadata": {},
   "outputs": [],
   "source": [
    "numeros = [3, 1, 4, 1, 5, 9, 2, 6, 5]\n",
    "\n",
    "# Ordenar de forma crescente\n",
    "numeros_ordenados = sorted(numeros)\n",
    "print(\"Ordenados (crescente):\", numeros_ordenados)\n",
    "\n",
    "# Ordenar de forma decrescente\n",
    "numeros_ordenados_desc = sorted(numeros, reverse=True)\n",
    "print(\"Ordenados (decrescente):\", numeros_ordenados_desc)"
   ]
  }
 ],
 "metadata": {
  "kernelspec": {
   "display_name": "Python 3",
   "language": "python",
   "name": "python3"
  },
  "language_info": {
   "codemirror_mode": {
    "name": "ipython",
    "version": 3
   },
   "file_extension": ".py",
   "mimetype": "text/x-python",
   "name": "python",
   "nbconvert_exporter": "python",
   "pygments_lexer": "ipython3",
   "version": "3.9.6"
  }
 },
 "nbformat": 4,
 "nbformat_minor": 2
}
