{
 "cells": [
  {
   "cell_type": "markdown",
   "metadata": {},
   "source": [
    "# Exercício sugerido:\n",
    "\n",
    "Exercício: Criar uma agenda utilizando dicionário e lista em Python\n",
    "\n",
    "Objetivo:\n",
    "\n",
    "Neste exercício, você vai criar uma agenda de contatos que armazena o código, nome, e telefone de cada contato. A agenda será implementada como uma lista de dicionários. Você deverá desenvolver um menu que ofereça as seguintes opções:\n",
    "\n",
    "* Inserir contato\n",
    "* Mostrar todos os contatos\n",
    "* Buscar contato\n",
    "* Editar contato\n",
    "* Ordenar contatos por nome\n",
    "* Apagar contato\n",
    "* Sair\n",
    "\n",
    "Cada operação será implementada em uma função separada. Você deve também criar uma função que exiba o menu e leia a escolha do usuário.\n",
    "\n",
    "**Explicação do exercício:**\n",
    "\n",
    "Agenda: É uma lista onde cada contato é representado como um dicionário com as chaves codigo, nome e telefone.\n",
    "\n",
    "Funções: Cada operação (inserir, mostrar, buscar, editar, ordenar e apagar) deve ser implementada como uma função separada para manter o código organizado e modular.\n",
    "\n",
    "Menu: O menu é exibido repetidamente até que o usuário escolha a opção de sair (opção 0).\n",
    "\n",
    "\n",
    "**Dicas para o aluno:**\n",
    "\n",
    "Explore diferentes formas de ordenar os contatos (por código ou telefone).\n",
    "Adicione mais validações, como verificar se o código já existe antes de inserir.\n",
    "Implemente mais opções, como exportar a agenda para um arquivo.\n",
    "\n",
    "**Informação Importante**\n"
   ]
  },
  {
   "cell_type": "code",
   "execution_count": 10,
   "metadata": {},
   "outputs": [],
   "source": [
    "def main():\n",
    "    return 0\n",
    "\n",
    "# Chamar a função principal\n",
    "if __name__ == \"__main__\":\n",
    "    main()"
   ]
  },
  {
   "cell_type": "markdown",
   "metadata": {},
   "source": [
    "A linha `if __name__ == \"__main__\":` é uma parte importante do código Python para controlar a execução de scripts. Vamos explicar essa estrutura em detalhes:\n",
    "\n",
    "### 1. **Por que ela é usada?**\n",
    "\n",
    "Em Python, os arquivos `.py` podem ser executados de duas maneiras:\n",
    "- **Como um script principal**: Quando você executa o arquivo diretamente (por exemplo, `python nome_do_arquivo.py`), o Python o considera o ponto de entrada do programa.\n",
    "- **Como um módulo**: Quando você importa um arquivo `.py` para outro script (por exemplo, `import nome_do_arquivo`), o Python carrega o conteúdo desse arquivo, mas **não** executa o código fora de funções/classes automaticamente.\n",
    "\n",
    "Para diferenciar esses dois casos, usamos a estrutura `if __name__ == \"__main__\":`. Ela verifica se o arquivo está sendo executado diretamente como o script principal e, se estiver, executa o código dentro desse bloco. Caso contrário, ele não o executa, permitindo que o arquivo seja importado sem efeitos colaterais.\n",
    "\n",
    "### 2. **Como funciona?**\n",
    "\n",
    "Quando o interpretador Python executa um arquivo, ele atribui o valor `\"__main__\"` à variável interna `__name__` se o arquivo estiver sendo executado diretamente. Se o arquivo estiver sendo importado como um módulo, o valor de `__name__` será o nome do arquivo ou módulo.\n",
    "\n",
    "### 3. **Aplicação no seu código**\n",
    "\n",
    "No seu exemplo:\n",
    "```python\n",
    "if __name__ == \"__main__\":\n",
    "    main()\n",
    "```\n",
    "\n",
    "Isso significa que **se o arquivo for executado diretamente**, a função `main()` será chamada e o programa começará a rodar. Caso o arquivo seja importado para outro script, a função `main()` **não será executada automaticamente**, o que é útil para reutilizar funções ou classes em outros contextos sem iniciar o programa acidentalmente.\n",
    "\n",
    "### 4. **Por que é importante?**\n",
    "\n",
    "1. **Reutilização de código**: Permite que o arquivo funcione tanto como script executável quanto como um módulo importável.\n",
    "2. **Evita efeitos colaterais**: Se você importar o arquivo em outro lugar, a parte principal do código (como o menu da agenda) não será executada automaticamente.\n",
    "3. **Organização**: Separa o código de execução direta daquele que pode ser reutilizado em outros contextos, como funções e classes.\n",
    "\n",
    "### Exemplo para demonstrar:\n",
    "\n",
    "**Arquivo `agenda.py`:**"
   ]
  },
  {
   "cell_type": "code",
   "execution_count": null,
   "metadata": {},
   "outputs": [],
   "source": [
    "def exibir_menu():\n",
    "    print(\"Exibindo menu...\")\n",
    "\n",
    "if __name__ == \"__main__\":\n",
    "    exibir_menu()"
   ]
  },
  {
   "cell_type": "markdown",
   "metadata": {},
   "source": [
    "**Arquivo `outro_programa.py`:**"
   ]
  },
  {
   "cell_type": "code",
   "execution_count": null,
   "metadata": {},
   "outputs": [],
   "source": [
    "import agenda\n",
    "\n",
    "print(\"Importei o arquivo agenda.py\")"
   ]
  },
  {
   "cell_type": "markdown",
   "metadata": {},
   "source": [
    "```\n",
    "\n",
    "- **Ao executar `agenda.py` diretamente:**\n",
    "  - O Python executa `exibir_menu()` e imprime \"Exibindo menu...\".\n",
    "- **Ao executar `outro_programa.py`**:\n",
    "  - O Python importa `agenda.py`, mas **não** executa `exibir_menu()`, imprimindo apenas \"Importei o arquivo agenda.py\".\n",
    "\n",
    "Essa separação é essencial para modularizar o código, tornando-o mais flexível e reutilizável.\n"
   ]
  }
 ],
 "metadata": {
  "kernelspec": {
   "display_name": "Python 3",
   "language": "python",
   "name": "python3"
  },
  "language_info": {
   "codemirror_mode": {
    "name": "ipython",
    "version": 3
   },
   "file_extension": ".py",
   "mimetype": "text/x-python",
   "name": "python",
   "nbconvert_exporter": "python",
   "pygments_lexer": "ipython3",
   "version": "3.9.6"
  }
 },
 "nbformat": 4,
 "nbformat_minor": 2
}
