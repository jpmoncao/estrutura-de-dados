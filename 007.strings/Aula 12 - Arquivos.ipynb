{
 "cells": [
  {
   "cell_type": "markdown",
   "metadata": {},
   "source": [
    "O uso de arquivos em Python é uma prática comum para lidar com diferentes tipos de dados. Aqui estão os comandos principais para trabalhar com arquivos, incluindo a manipulação de arquivos JSON.\n",
    "\n",
    "### 1. Abrir um arquivo:\n",
    "Para abrir um arquivo, usamos a função `open()`. Esta função pode abrir arquivos para leitura, escrita, ou ambos."
   ]
  },
  {
   "cell_type": "code",
   "execution_count": null,
   "metadata": {},
   "outputs": [],
   "source": [
    "# Abrir um arquivo para leitura (modo 'r')\n",
    "arquivo = open('arquivo.txt', 'r')\n",
    "\n",
    "# Abrir um arquivo para escrita (modo 'w')\n",
    "arquivo = open('arquivo.txt', 'w')\n",
    "\n",
    "# Abrir um arquivo para acrescentar dados (modo 'a')\n",
    "arquivo = open('arquivo.txt', 'a')"
   ]
  },
  {
   "cell_type": "markdown",
   "metadata": {},
   "source": [
    "### 2. Ler de um arquivo:\n",
    "Depois de abrir um arquivo, você pode ler o conteúdo usando métodos como `read()`, `readline()`, ou `readlines()`.\n",
    "\n"
   ]
  },
  {
   "cell_type": "code",
   "execution_count": null,
   "metadata": {},
   "outputs": [],
   "source": [
    "# Ler todo o conteúdo de um arquivo\n",
    "with open('arquivo.txt', 'r') as arquivo:\n",
    "    conteudo = arquivo.read()\n",
    "    print(conteudo)\n",
    "\n",
    "# Ler linha por linha\n",
    "with open('arquivo.txt', 'r') as arquivo:\n",
    "    linha = arquivo.readline()\n",
    "    while linha:\n",
    "        print(linha)\n",
    "        linha = arquivo.readline()\n",
    "\n",
    "# Ler todas as linhas e armazenar em uma lista\n",
    "with open('arquivo.txt', 'r') as arquivo:\n",
    "    linhas = arquivo.readlines()\n",
    "    print(linhas)"
   ]
  },
  {
   "cell_type": "markdown",
   "metadata": {},
   "source": [
    "### 3. Escrever em um arquivo:\n",
    "Você pode escrever no arquivo usando `write()` ou `writelines()`.\n"
   ]
  },
  {
   "cell_type": "code",
   "execution_count": null,
   "metadata": {},
   "outputs": [],
   "source": [
    "# Escrever em um arquivo\n",
    "with open('arquivo.txt', 'w') as arquivo:\n",
    "    arquivo.write(\"Esta é uma nova linha.\\n\")\n",
    "\n",
    "# Adicionar (append) texto a um arquivo existente\n",
    "with open('arquivo.txt', 'a') as arquivo:\n",
    "    arquivo.write(\"Esta linha será adicionada ao final do arquivo.\\n\")\n",
    "\n",
    "# Escrever uma lista de linhas\n",
    "linhas = [\"Primeira linha\\n\", \"Segunda linha\\n\", \"Terceira linha\\n\"]\n",
    "with open('arquivo.txt', 'w') as arquivo:\n",
    "    arquivo.writelines(linhas)"
   ]
  },
  {
   "cell_type": "markdown",
   "metadata": {},
   "source": [
    "### 4. Fechar um arquivo:\n",
    "Sempre feche o arquivo após a leitura ou escrita, ou use `with` para garantir o fechamento automático.\n"
   ]
  },
  {
   "cell_type": "code",
   "execution_count": null,
   "metadata": {},
   "outputs": [],
   "source": [
    "# Método manual de fechamento\n",
    "arquivo = open('arquivo.txt', 'r')\n",
    "conteudo = arquivo.read()\n",
    "arquivo.close()\n",
    "\n",
    "# Usando 'with' para fechar automaticamente\n",
    "with open('arquivo.txt', 'r') as arquivo:\n",
    "    conteudo = arquivo.read()"
   ]
  },
  {
   "cell_type": "markdown",
   "metadata": {},
   "source": [
    "### 5. Manipular arquivos JSON:\n",
    "Python tem o módulo `json` para trabalhar com arquivos JSON, o que facilita o processo de leitura e escrita.\n",
    "\n",
    "#### 5.1. Escrever um arquivo JSON:\n",
    "Para gerar e escrever dados em um arquivo JSON, usamos `json.dump()`."
   ]
  },
  {
   "cell_type": "code",
   "execution_count": null,
   "metadata": {},
   "outputs": [],
   "source": [
    "import json\n",
    "\n",
    "# Dados a serem escritos no arquivo JSON\n",
    "dados = {\n",
    "    \"nome\": \"João\",\n",
    "    \"idade\": 30,\n",
    "    \"cidades_visitadas\": [\"São Paulo\", \"Rio de Janeiro\"]\n",
    "}\n",
    "\n",
    "# Escrever os dados em um arquivo JSON\n",
    "with open('dados.json', 'w') as arquivo_json:\n",
    "    json.dump(dados, arquivo_json, indent=4)"
   ]
  },
  {
   "cell_type": "markdown",
   "metadata": {},
   "source": [
    "#### 5.2. Ler um arquivo JSON:\n",
    "Para ler dados de um arquivo JSON, usamos `json.load()`."
   ]
  },
  {
   "cell_type": "code",
   "execution_count": null,
   "metadata": {},
   "outputs": [],
   "source": [
    "import json\n",
    "\n",
    "# Ler os dados de um arquivo JSON\n",
    "with open('dados.json', 'r') as arquivo_json:\n",
    "    dados = json.load(arquivo_json)\n",
    "    print(dados)"
   ]
  },
  {
   "cell_type": "markdown",
   "metadata": {},
   "source": [
    "#### 5.3. Converter entre JSON e strings:\n",
    "Para converter um objeto Python em uma string JSON, usamos `json.dumps()`, e para converter uma string JSON em um objeto Python, usamos `json.loads()`."
   ]
  },
  {
   "cell_type": "code",
   "execution_count": null,
   "metadata": {},
   "outputs": [],
   "source": [
    "import json\n",
    "\n",
    "# Converter objeto Python em string JSON\n",
    "dados = {\"nome\": \"Ana\", \"idade\": 25}\n",
    "dados_json = json.dumps(dados, indent=4)\n",
    "print(dados_json)\n",
    "\n",
    "# Converter string JSON em objeto Python\n",
    "dados_convertidos = json.loads(dados_json)\n",
    "print(dados_convertidos)"
   ]
  }
 ],
 "metadata": {
  "language_info": {
   "name": "python"
  }
 },
 "nbformat": 4,
 "nbformat_minor": 2
}
