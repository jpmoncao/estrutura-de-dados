{
 "cells": [
  {
   "cell_type": "markdown",
   "metadata": {},
   "source": [
    "## Strings em Python\n",
    "Uma string em Python é uma sequência de caracteres imutável, usada para representar texto. Strings são delimitadas por aspas simples (') ou duplas (\"), e podem ser manipuladas de várias maneiras, como corte (slicing), concatenação e iteração.\n",
    "\n",
    "### Criação de strings"
   ]
  },
  {
   "cell_type": "code",
   "execution_count": null,
   "metadata": {},
   "outputs": [],
   "source": [
    "# Usando aspas simples\n",
    "s1 = 'Olá, Mundo!'\n",
    "\n",
    "# Usando aspas duplas\n",
    "s2 = \"Python é divertido!\"\n",
    "\n",
    "# Usando aspas triplas para strings multilinhas\n",
    "s3 = '''Este é um exemplo\n",
    "de string em múltiplas linhas.'''"
   ]
  },
  {
   "cell_type": "markdown",
   "metadata": {},
   "source": [
    "### Operações comuns com strings\n",
    "\n",
    "* Concatenar strings:"
   ]
  },
  {
   "cell_type": "code",
   "execution_count": null,
   "metadata": {},
   "outputs": [],
   "source": [
    "s1 = 'Olá'\n",
    "s2 = 'Mundo'\n",
    "resultado = s1 + ', ' + s2 + '!'  # Resultado: 'Olá, Mundo!'"
   ]
  },
  {
   "cell_type": "markdown",
   "metadata": {},
   "source": [
    "* Acessar caracteres (indexação):"
   ]
  },
  {
   "cell_type": "code",
   "execution_count": null,
   "metadata": {},
   "outputs": [],
   "source": [
    "texto = 'Python'\n",
    "primeiro_caractere = texto[0]   # 'P'\n",
    "ultimo_caractere = texto[-1]    # 'n'"
   ]
  },
  {
   "cell_type": "markdown",
   "metadata": {},
   "source": [
    "* Cortar strings (slicing):"
   ]
  },
  {
   "cell_type": "code",
   "execution_count": null,
   "metadata": {},
   "outputs": [],
   "source": [
    "texto = 'Programação'\n",
    "trecho = texto[0:5]  # 'Progr'"
   ]
  },
  {
   "cell_type": "markdown",
   "metadata": {},
   "source": [
    "* Comprimento da string:"
   ]
  },
  {
   "cell_type": "code",
   "execution_count": null,
   "metadata": {},
   "outputs": [],
   "source": [
    "tamanho = len('Python')  # 6"
   ]
  },
  {
   "cell_type": "markdown",
   "metadata": {},
   "source": [
    "* Multiplicação de strings:"
   ]
  },
  {
   "cell_type": "code",
   "execution_count": null,
   "metadata": {},
   "outputs": [],
   "source": [
    "repeticao = \"Olá! \" * 3\n",
    "print(repeticao)  # Olá! Olá! Olá!"
   ]
  },
  {
   "cell_type": "markdown",
   "metadata": {},
   "source": [
    "* Verificando a presença de substrings:"
   ]
  },
  {
   "cell_type": "code",
   "execution_count": null,
   "metadata": {},
   "outputs": [],
   "source": [
    "saudacao = 'boa noite, pessoal!'\n",
    "if \"boa\" in saudacao:\n",
    "    print(\"A palavra 'boa' está presente.\")"
   ]
  },
  {
   "cell_type": "markdown",
   "metadata": {},
   "source": [
    "* Métodos comuns de strings:"
   ]
  },
  {
   "cell_type": "code",
   "execution_count": 1,
   "metadata": {},
   "outputs": [
    {
     "ename": "KeyboardInterrupt",
     "evalue": "",
     "output_type": "error",
     "traceback": [
      "\u001b[0;31m---------------------------------------------------------------------------\u001b[0m",
      "\u001b[0;31mKeyboardInterrupt\u001b[0m                         Traceback (most recent call last)",
      "Cell \u001b[0;32mIn[1], line 1\u001b[0m\n\u001b[0;32m----> 1\u001b[0m texto \u001b[38;5;241m=\u001b[39m \u001b[38;5;124m'\u001b[39m\u001b[38;5;124mpython é ótimo\u001b[39m\u001b[38;5;124m'\u001b[39m\n\u001b[1;32m      2\u001b[0m maiuscula \u001b[38;5;241m=\u001b[39m texto\u001b[38;5;241m.\u001b[39mupper()      \u001b[38;5;66;03m# 'PYTHON É ÓTIMO'\u001b[39;00m\n\u001b[1;32m      3\u001b[0m minuscula \u001b[38;5;241m=\u001b[39m texto\u001b[38;5;241m.\u001b[39mlower()      \u001b[38;5;66;03m# 'python é ótimo'\u001b[39;00m\n",
      "Cell \u001b[0;32mIn[1], line 1\u001b[0m\n\u001b[0;32m----> 1\u001b[0m texto \u001b[38;5;241m=\u001b[39m \u001b[38;5;124m'\u001b[39m\u001b[38;5;124mpython é ótimo\u001b[39m\u001b[38;5;124m'\u001b[39m\n\u001b[1;32m      2\u001b[0m maiuscula \u001b[38;5;241m=\u001b[39m texto\u001b[38;5;241m.\u001b[39mupper()      \u001b[38;5;66;03m# 'PYTHON É ÓTIMO'\u001b[39;00m\n\u001b[1;32m      3\u001b[0m minuscula \u001b[38;5;241m=\u001b[39m texto\u001b[38;5;241m.\u001b[39mlower()      \u001b[38;5;66;03m# 'python é ótimo'\u001b[39;00m\n",
      "File \u001b[0;32m_pydevd_bundle/pydevd_cython.pyx:1457\u001b[0m, in \u001b[0;36m_pydevd_bundle.pydevd_cython.SafeCallWrapper.__call__\u001b[0;34m()\u001b[0m\n",
      "File \u001b[0;32m_pydevd_bundle/pydevd_cython.pyx:701\u001b[0m, in \u001b[0;36m_pydevd_bundle.pydevd_cython.PyDBFrame.trace_dispatch\u001b[0;34m()\u001b[0m\n",
      "File \u001b[0;32m_pydevd_bundle/pydevd_cython.pyx:1152\u001b[0m, in \u001b[0;36m_pydevd_bundle.pydevd_cython.PyDBFrame.trace_dispatch\u001b[0;34m()\u001b[0m\n",
      "File \u001b[0;32m_pydevd_bundle/pydevd_cython.pyx:1135\u001b[0m, in \u001b[0;36m_pydevd_bundle.pydevd_cython.PyDBFrame.trace_dispatch\u001b[0;34m()\u001b[0m\n",
      "File \u001b[0;32m_pydevd_bundle/pydevd_cython.pyx:312\u001b[0m, in \u001b[0;36m_pydevd_bundle.pydevd_cython.PyDBFrame.do_wait_suspend\u001b[0;34m()\u001b[0m\n",
      "File \u001b[0;32m~/Library/Python/3.9/lib/python/site-packages/debugpy/_vendored/pydevd/pydevd.py:2070\u001b[0m, in \u001b[0;36mPyDB.do_wait_suspend\u001b[0;34m(self, thread, frame, event, arg, exception_type)\u001b[0m\n\u001b[1;32m   2067\u001b[0m             from_this_thread\u001b[38;5;241m.\u001b[39mappend(frame_custom_thread_id)\n\u001b[1;32m   2069\u001b[0m     \u001b[38;5;28;01mwith\u001b[39;00m \u001b[38;5;28mself\u001b[39m\u001b[38;5;241m.\u001b[39m_threads_suspended_single_notification\u001b[38;5;241m.\u001b[39mnotify_thread_suspended(thread_id, thread, stop_reason):\n\u001b[0;32m-> 2070\u001b[0m         keep_suspended \u001b[38;5;241m=\u001b[39m \u001b[38;5;28;43mself\u001b[39;49m\u001b[38;5;241;43m.\u001b[39;49m\u001b[43m_do_wait_suspend\u001b[49m\u001b[43m(\u001b[49m\u001b[43mthread\u001b[49m\u001b[43m,\u001b[49m\u001b[43m \u001b[49m\u001b[43mframe\u001b[49m\u001b[43m,\u001b[49m\u001b[43m \u001b[49m\u001b[43mevent\u001b[49m\u001b[43m,\u001b[49m\u001b[43m \u001b[49m\u001b[43marg\u001b[49m\u001b[43m,\u001b[49m\u001b[43m \u001b[49m\u001b[43msuspend_type\u001b[49m\u001b[43m,\u001b[49m\u001b[43m \u001b[49m\u001b[43mfrom_this_thread\u001b[49m\u001b[43m,\u001b[49m\u001b[43m \u001b[49m\u001b[43mframes_tracker\u001b[49m\u001b[43m)\u001b[49m\n\u001b[1;32m   2072\u001b[0m frames_list \u001b[38;5;241m=\u001b[39m \u001b[38;5;28;01mNone\u001b[39;00m\n\u001b[1;32m   2074\u001b[0m \u001b[38;5;28;01mif\u001b[39;00m keep_suspended:\n\u001b[1;32m   2075\u001b[0m     \u001b[38;5;66;03m# This means that we should pause again after a set next statement.\u001b[39;00m\n",
      "File \u001b[0;32m~/Library/Python/3.9/lib/python/site-packages/debugpy/_vendored/pydevd/pydevd.py:2106\u001b[0m, in \u001b[0;36mPyDB._do_wait_suspend\u001b[0;34m(self, thread, frame, event, arg, suspend_type, from_this_thread, frames_tracker)\u001b[0m\n\u001b[1;32m   2103\u001b[0m         \u001b[38;5;28mself\u001b[39m\u001b[38;5;241m.\u001b[39m_call_input_hook()\n\u001b[1;32m   2105\u001b[0m     \u001b[38;5;28mself\u001b[39m\u001b[38;5;241m.\u001b[39mprocess_internal_commands()\n\u001b[0;32m-> 2106\u001b[0m     \u001b[43mtime\u001b[49m\u001b[38;5;241;43m.\u001b[39;49m\u001b[43msleep\u001b[49m\u001b[43m(\u001b[49m\u001b[38;5;241;43m0.01\u001b[39;49m\u001b[43m)\u001b[49m\n\u001b[1;32m   2108\u001b[0m \u001b[38;5;28mself\u001b[39m\u001b[38;5;241m.\u001b[39mcancel_async_evaluation(get_current_thread_id(thread), \u001b[38;5;28mstr\u001b[39m(\u001b[38;5;28mid\u001b[39m(frame)))\n\u001b[1;32m   2110\u001b[0m \u001b[38;5;66;03m# process any stepping instructions\u001b[39;00m\n",
      "\u001b[0;31mKeyboardInterrupt\u001b[0m: "
     ]
    }
   ],
   "source": [
    "texto = 'python é ótimo'\n",
    "maiuscula = texto.upper()      # 'PYTHON É ÓTIMO'\n",
    "minuscula = texto.lower()      # 'python é ótimo'\n",
    "capitalizado = texto.capitalize()  # 'Python é ótimo'\n",
    "substituido = texto.replace('ótimo', 'incrível')  # 'python é incrível'\n",
    "limpo = texto.strip() # Remove espaços em branco no início e no final da string\n",
    "lista_de_palavras = texto.split() # Divide a string em uma lista, baseado em um separador, no caso espaço ['python','é','ótimo']   \n",
    "string_de_lista = lista_de_palavras.join() # Junta uma lista de strings em uma única string:\n",
    "\n",
    "texto = \"Python é uma linguagem poderosa. Python é agro. Python é top!\"\n",
    "palavra = \"python\"\n",
    "quantidade = texto.count(palavra) # 3\n",
    "print(f\"A palavra '{palavra}' aparece {quantidade} vezes no texto.\")\n",
    "#A palavra 'python' aparece 3 vezes no texto."
   ]
  },
  {
   "cell_type": "markdown",
   "metadata": {},
   "source": [
    "### Formatação de strings\n",
    "\n",
    "Python oferece várias maneiras de formatar strings:\n",
    "\n",
    "* Usando o operador %:"
   ]
  },
  {
   "cell_type": "code",
   "execution_count": null,
   "metadata": {},
   "outputs": [],
   "source": [
    "nome = 'João'\n",
    "idade = 25\n",
    "print('Meu nome é %s e eu tenho %d anos.' % (nome, idade))"
   ]
  },
  {
   "cell_type": "markdown",
   "metadata": {},
   "source": [
    "* Usando o método format():"
   ]
  },
  {
   "cell_type": "code",
   "execution_count": null,
   "metadata": {},
   "outputs": [],
   "source": [
    "print('Meu nome é {} e eu tenho {} anos.'.format(nome, idade))"
   ]
  },
  {
   "cell_type": "markdown",
   "metadata": {},
   "source": [
    "* Usando f-strings (Python 3.6+):"
   ]
  },
  {
   "cell_type": "code",
   "execution_count": null,
   "metadata": {},
   "outputs": [],
   "source": [
    "print(f'Meu nome é {nome} e eu tenho {idade} anos.')"
   ]
  },
  {
   "cell_type": "markdown",
   "metadata": {},
   "source": [
    "---\n",
    "\n",
    "### Exercícios com strings\n",
    "#### 1. Contar vogais em uma string:"
   ]
  },
  {
   "cell_type": "code",
   "execution_count": null,
   "metadata": {},
   "outputs": [],
   "source": [
    "def contar_vogais(texto):\n",
    "    vogais = 'aeéiíouAEIOU'\n",
    "    contagem = 0\n",
    "    for char in texto:\n",
    "        if char in vogais:\n",
    "            contagem += 1\n",
    "            print(char)\n",
    "    return contagem\n",
    "\n",
    "texto = 'Python é incrível!'\n",
    "print(contar_vogais(texto))  # Saída: 5"
   ]
  },
  {
   "cell_type": "markdown",
   "metadata": {},
   "source": [
    "#### 2. Verificar se uma string é um palíndromo:"
   ]
  },
  {
   "cell_type": "code",
   "execution_count": null,
   "metadata": {},
   "outputs": [],
   "source": [
    "def eh_palindromo(texto):\n",
    "    texto = texto.lower().replace(' ', '')  # Ignorar maiúsculas e espaços\n",
    "    return texto == texto[::-1]\n",
    "\n",
    "print(eh_palindromo('A base do teto desaba'))  # Saída: True\n",
    "print(eh_palindromo(\"radar\"))  # True\n",
    "print(eh_palindromo(\"python\"))  # False\n",
    "print(eh_palindromo(\"subi no onibus\")) # True\n",
    "print(eh_palindromo(\"socorram me subi no onibus em marrocos\")) # True"
   ]
  },
  {
   "cell_type": "markdown",
   "metadata": {},
   "source": [
    "#### 3. Remover espaços extras de uma string:"
   ]
  },
  {
   "cell_type": "code",
   "execution_count": null,
   "metadata": {},
   "outputs": [],
   "source": [
    "def remover_espacos(texto):\n",
    "    return ' '.join(texto.split())\n",
    "\n",
    "frase = '  Python    é   incrível!  '\n",
    "print(remover_espacos(frase))  # Saída: 'Python é incrível!'"
   ]
  },
  {
   "cell_type": "markdown",
   "metadata": {},
   "source": [
    "#### 4. Contar palavras em uma string:"
   ]
  },
  {
   "cell_type": "code",
   "execution_count": null,
   "metadata": {},
   "outputs": [],
   "source": [
    "def contar_palavras(texto):\n",
    "    return len(texto.split())\n",
    "\n",
    "frase = 'Python é uma linguagem poderosa'\n",
    "print(contar_palavras(frase))  # Saída: 5"
   ]
  },
  {
   "cell_type": "markdown",
   "metadata": {},
   "source": [
    "#### 5. Reverter uma string\n",
    "\n",
    "Escreva uma função que receba uma string e retorne ela invertida:"
   ]
  },
  {
   "cell_type": "code",
   "execution_count": null,
   "metadata": {},
   "outputs": [],
   "source": [
    "def inverter_string(s):\n",
    "    return s[::-1]\n",
    "\n",
    "print(inverter_string(\"Python\"))  # nohtyP"
   ]
  },
  {
   "cell_type": "markdown",
   "metadata": {},
   "source": [
    "---\n",
    "### Aplicações Práticas\n",
    "\n",
    "#### 1. Validação de entrada de dados\n",
    "\n",
    "Verificar se o usuário inseriu uma string válida como nome ou e-mail."
   ]
  },
  {
   "cell_type": "code",
   "execution_count": null,
   "metadata": {},
   "outputs": [],
   "source": [
    "email = input('Digite seu e-mail: ')\n",
    "if '@' in email and '.' in email:\n",
    "    print('E-mail válido.')"
   ]
  },
  {
   "cell_type": "markdown",
   "metadata": {},
   "source": [
    "#### 2. Busca de palavras em um texto"
   ]
  },
  {
   "cell_type": "code",
   "execution_count": null,
   "metadata": {},
   "outputs": [],
   "source": [
    "def buscar_palavra(texto, palavra):\n",
    "    if palavra in texto:\n",
    "        print(f\"A palavra '{palavra}' foi encontrada.\")\n",
    "    else:\n",
    "        print(f\"A palavra '{palavra}' não foi encontrada.\")\n",
    "\n",
    "texto = \"Python é uma linguagem de programação poderosa.\"\n",
    "buscar_palavra(texto, \"linguagem\")  # A palavra 'linguagem' foi encontrada."
   ]
  },
  {
   "cell_type": "markdown",
   "metadata": {},
   "source": [
    "#### 3. Manipulação de e-mails"
   ]
  },
  {
   "cell_type": "code",
   "execution_count": null,
   "metadata": {},
   "outputs": [],
   "source": [
    "def obtem_dominio(email):\n",
    "    return email.split(\"@\")[-1]\n",
    "\n",
    "email = \"usuario@example.com\"\n",
    "dominio = obtem_dominio(email)\n",
    "print(dominio)  # example.com"
   ]
  },
  {
   "cell_type": "markdown",
   "metadata": {},
   "source": [
    "#### 4. Contar quantas vezes uma palavra aparece na string"
   ]
  },
  {
   "cell_type": "code",
   "execution_count": null,
   "metadata": {},
   "outputs": [],
   "source": [
    "def contar_palavra(texto, palavra):\n",
    "    # Converte o texto e a palavra para minúsculas para contar de forma insensível a maiúsculas\n",
    "    texto = texto.lower()\n",
    "    palavra = palavra.lower()\n",
    "    \n",
    "    # Usa o método count() para contar quantas vezes a palavra aparece\n",
    "    return texto.count(palavra)\n",
    "\n",
    "# Testando a função\n",
    "texto = \"Python é uma linguagem poderosa. Python é fácil de aprender. Eu adoro Python!\"\n",
    "palavra = \"python\"\n",
    "quantidade = contar_palavra(texto, palavra)\n",
    "\n",
    "print(f\"A palavra '{palavra}' aparece {quantidade} vezes no texto.\")"
   ]
  }
 ],
 "metadata": {
  "kernelspec": {
   "display_name": "Python 3",
   "language": "python",
   "name": "python3"
  },
  "language_info": {
   "codemirror_mode": {
    "name": "ipython",
    "version": 3
   },
   "file_extension": ".py",
   "mimetype": "text/x-python",
   "name": "python",
   "nbconvert_exporter": "python",
   "pygments_lexer": "ipython3",
   "version": "3.9.6"
  }
 },
 "nbformat": 4,
 "nbformat_minor": 2
}
