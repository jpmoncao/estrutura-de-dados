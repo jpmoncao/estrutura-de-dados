{
 "cells": [
  {
   "cell_type": "markdown",
   "metadata": {},
   "source": [
    "# 004 - Estruturas Condicionais\n",
    "- Estruturas condicionais são estruturas que operam um bloco de código baseado em uma expressão lógica\n",
    "- Ela segue um modelo de árvore, onde há dois caminhos lógicos, verdadeiro ou falso"
   ]
  },
  {
   "cell_type": "markdown",
   "metadata": {},
   "source": [
    "### Estrutura: If\n",
    "- O If é uma estrutura fundamental, por si só, tem baixíssima complexidade, já que seu único trabalho é analisar um valor direcionando ele para a lógica verdadeira ou falsa (caso exista)\n",
    "    - Lembrando que o `else` (caso expressão for falsa) não é obrigatório\n",
    "- Sua sintaxe básica é simples, dessa forma"
   ]
  },
  {
   "cell_type": "code",
   "execution_count": null,
   "metadata": {},
   "outputs": [],
   "source": [
    "condicao = True\n",
    "\n",
    "if condicao:\n",
    "    print('Bloco verdadeiro!')\n",
    "else:\n",
    "    print('Bloco falso!')\n",
    "    "
   ]
  },
  {
   "cell_type": "markdown",
   "metadata": {},
   "source": [
    "Ainda podemos usar o `elif`, essa condição é um `else` que faz uma comparação caso `if` retornar falso"
   ]
  },
  {
   "cell_type": "code",
   "execution_count": null,
   "metadata": {},
   "outputs": [],
   "source": [
    "condicao = 1\n",
    "\n",
    "if condicao == 0:\n",
    "    print('Bloco se!')\n",
    "elif condicao == 1:\n",
    "    print('Bloco se não, se!')\n",
    "else:\n",
    "    print('Bloco se não!')\n",
    "    \n",
    "    "
   ]
  },
  {
   "cell_type": "markdown",
   "metadata": {},
   "source": [
    "- Saber usar os três comparadores é ideal, um `else` pode poupar muitas operações e melhorar performance, assim como o famoso _early return_."
   ]
  }
 ],
 "metadata": {
  "kernelspec": {
   "display_name": "Python 3",
   "language": "python",
   "name": "python3"
  },
  "language_info": {
   "name": "python",
   "version": "3.12.1"
  }
 },
 "nbformat": 4,
 "nbformat_minor": 2
}
