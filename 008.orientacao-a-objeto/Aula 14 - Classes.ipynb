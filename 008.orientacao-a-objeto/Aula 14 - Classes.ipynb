{
 "cells": [
  {
   "cell_type": "markdown",
   "metadata": {},
   "source": [
    "## **Introdução a Classes em Python**\n",
    "---\n",
    "\n",
    "### 1. **O que é uma Classe?**\n",
    "* Uma **classe** é uma estrutura que permite organizar dados e funcionalidades em uma mesma entidade lógica. \n",
    "* Ela é um modelo para criar **objetos**, agrupando **atributos** (dados) e **métodos** (funções). \n",
    "* Cada objeto criado a partir de uma classe é chamado de **instância**.\n",
    "\n",
    "### 2. **Por que Usar Classes?**\n",
    "- Reutilização de código.\n",
    "- Organização e modularização de funcionalidades.\n",
    "- Representação de objetos do mundo real com comportamento e estado.\n",
    "  \n",
    "---\n",
    "\n",
    "## **Sintaxe Básica de uma Classe**"
   ]
  },
  {
   "cell_type": "code",
   "execution_count": null,
   "metadata": {},
   "outputs": [],
   "source": [
    "class MinhaClasse:\n",
    "    def __init__(self, atributo1, atributo2):\n",
    "        self.atributo1 = atributo1  # Atributo da instância\n",
    "        self.atributo2 = atributo2\n",
    "\n",
    "    def exibir_atributos(self):\n",
    "        print(f\"Atributo 1: {self.atributo1}, Atributo 2: {self.atributo2}\")"
   ]
  },
  {
   "cell_type": "markdown",
   "metadata": {},
   "source": [
    "**Explicação:**\n",
    "1. **`class`**: Define uma nova classe.\n",
    "2. **`__init__`**: Método especial que é chamado automaticamente ao criar uma instância da classe (construtor).\n",
    "3. **`self`**: Referência à própria instância da classe. Todos os métodos precisam de `self` como primeiro parâmetro.\n",
    "4. **Método da classe**: No exemplo, o método `exibir_atributos()` é usado para exibir os valores dos atributos da instância.\n",
    "\n",
    "---\n",
    "\n",
    "## **Criando e Utilizando Objetos**"
   ]
  },
  {
   "cell_type": "code",
   "execution_count": null,
   "metadata": {},
   "outputs": [],
   "source": [
    "# Criando uma instância da classe\n",
    "objeto = MinhaClasse(\"valor1\", \"valor2\")\n",
    "\n",
    "# Acessando métodos e atributos\n",
    "objeto.exibir_atributos()"
   ]
  },
  {
   "cell_type": "markdown",
   "metadata": {},
   "source": [
    "---\n",
    "\n",
    "## **Exemplo Prático: Classe Pessoa**"
   ]
  },
  {
   "cell_type": "code",
   "execution_count": null,
   "metadata": {},
   "outputs": [],
   "source": [
    "class Pessoa:\n",
    "    def __init__(self, nome, idade):\n",
    "        self.nome = nome\n",
    "        self.idade = idade\n",
    "\n",
    "    def apresentar(self):\n",
    "        print(f\"Olá, meu nome é {self.nome} e tenho {self.idade} anos.\")\n",
    "#Uso:\n",
    "pessoa1 = Pessoa(\"Carlos\", 25)\n",
    "pessoa1.apresentar()"
   ]
  },
  {
   "cell_type": "markdown",
   "metadata": {},
   "source": [
    "**Saída:**"
   ]
  },
  {
   "cell_type": "markdown",
   "metadata": {},
   "source": [
    "Olá, meu nome é Carlos e tenho 25 anos."
   ]
  },
  {
   "cell_type": "markdown",
   "metadata": {},
   "source": [
    "---\n",
    "\n",
    "## **Atributos de Instância e Atributos de Classe**\n",
    "\n",
    "- **Atributos de Instância**: São específicos para cada objeto criado a partir da classe.\n",
    "- **Atributos de Classe**: Compartilhados entre todas as instâncias da classe."
   ]
  },
  {
   "cell_type": "code",
   "execution_count": null,
   "metadata": {},
   "outputs": [],
   "source": [
    "class Animal:\n",
    "    especie = \"Mamífero\"  # Atributo de classe\n",
    "\n",
    "    def __init__(self, nome):\n",
    "        self.nome = nome  # Atributo de instância"
   ]
  },
  {
   "cell_type": "markdown",
   "metadata": {},
   "source": [
    "---\n",
    "\n",
    "## **Encapsulamento: Atributos Privados**\n",
    "\n",
    "Para proteger atributos e métodos, usamos prefixos:\n",
    "- **Privado**: `__atributo` (não pode ser acessado diretamente fora da classe)."
   ]
  },
  {
   "cell_type": "code",
   "execution_count": null,
   "metadata": {},
   "outputs": [],
   "source": [
    "class ContaBancaria:\n",
    "    def __init__(self, saldo):\n",
    "        self.__saldo = saldo  # Atributo privado\n",
    "\n",
    "    def ver_saldo(self):\n",
    "        return self.__saldo"
   ]
  },
  {
   "cell_type": "markdown",
   "metadata": {},
   "source": [
    "---\n",
    "\n",
    "## **Herança entre Classes**\n",
    "\n",
    "A **herança** permite criar novas classes com base em uma classe existente."
   ]
  },
  {
   "cell_type": "code",
   "execution_count": null,
   "metadata": {},
   "outputs": [],
   "source": [
    "class Veiculo:\n",
    "    def __init__(self, marca):\n",
    "        self.marca = marca\n",
    "\n",
    "class Carro(Veiculo):\n",
    "    def __init__(self, marca, modelo):\n",
    "        super().__init__(marca)  # Chama o construtor da classe base\n",
    "        self.modelo = modelo\n",
    "\n",
    "    def descricao(self):\n",
    "        print(f\"Carro: {self.marca} {self.modelo}\")"
   ]
  },
  {
   "cell_type": "markdown",
   "metadata": {},
   "source": [
    "---\n",
    "\n",
    "## **Polimorfismo**\n",
    "\n",
    "Permite que diferentes classes tenham métodos com o mesmo nome, mas com comportamentos distintos."
   ]
  },
  {
   "cell_type": "code",
   "execution_count": null,
   "metadata": {},
   "outputs": [],
   "source": [
    "class Gato:\n",
    "    def som(self):\n",
    "        print(\"Miau!\")\n",
    "\n",
    "class Cachorro:\n",
    "    def som(self):\n",
    "        print(\"Au au!\")\n",
    "        \n",
    "def emitir_som(animal):\n",
    "    animal.som()\n",
    "\n",
    "gato = Gato()\n",
    "cachorro = Cachorro()\n",
    "\n",
    "emitir_som(gato)      # Miau!\n",
    "emitir_som(cachorro)  # Au au!"
   ]
  },
  {
   "cell_type": "markdown",
   "metadata": {},
   "source": [
    "---\n",
    "\n",
    "## **Conclusão**\n",
    "\n",
    "As **classes** são fundamentais para a programação orientada a objetos (POO) e permitem a construção de sistemas mais organizados e reutilizáveis. Em Python, a flexibilidade das classes facilita a implementação de conceitos como **encapsulamento**, **herança** e **polimorfismo**.\n",
    "\n",
    "---\n",
    "\n",
    "### **Exercícios**\n",
    "\n",
    "1. **Criar uma classe Livro**:\n",
    "   - Atributos: título, autor e ano.\n",
    "   - Método: exibir informações do livro.\n",
    "\n",
    "2. **Implementar uma classe Aluno**:\n",
    "   - Atributos: nome, matrícula e média.\n",
    "   - Método: exibir status do aluno (Aprovado ou Reprovado, com base em uma média >= 6).\n",
    "\n",
    "---"
   ]
  }
 ],
 "metadata": {
  "language_info": {
   "name": "python"
  }
 },
 "nbformat": 4,
 "nbformat_minor": 2
}
